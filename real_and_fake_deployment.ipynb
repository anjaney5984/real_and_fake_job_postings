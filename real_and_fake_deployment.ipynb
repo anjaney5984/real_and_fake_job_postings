{
 "cells": [
  {
   "cell_type": "markdown",
   "id": "a0b526a3-ab2a-480b-a34b-182efac85a4e",
   "metadata": {},
   "source": [
    "### Done Using NLP\n"
   ]
  },
  {
   "cell_type": "code",
   "execution_count": 1,
   "id": "669c9a67-3924-4cd8-9d0d-984e67ebbfa4",
   "metadata": {},
   "outputs": [],
   "source": [
    "import pandas as pd\n",
    "import numpy as np\n",
    "import seaborn as sns\n",
    "import matplotlib.pyplot as plt\n",
    "import plotly.express as px"
   ]
  },
  {
   "cell_type": "code",
   "execution_count": 2,
   "id": "541b47a6-505d-4707-b3e1-822ff9319c22",
   "metadata": {},
   "outputs": [],
   "source": [
    "df=pd.read_csv(r\"C:\\Users\\Anjaney Deshpande\\Desktop\\fake_job_postings.csv\",encoding='latin-1')"
   ]
  },
  {
   "cell_type": "code",
   "execution_count": 3,
   "id": "88841971-8733-495c-80a4-8c12afb4fe6b",
   "metadata": {},
   "outputs": [
    {
     "data": {
      "text/html": [
       "<div>\n",
       "<style scoped>\n",
       "    .dataframe tbody tr th:only-of-type {\n",
       "        vertical-align: middle;\n",
       "    }\n",
       "\n",
       "    .dataframe tbody tr th {\n",
       "        vertical-align: top;\n",
       "    }\n",
       "\n",
       "    .dataframe thead th {\n",
       "        text-align: right;\n",
       "    }\n",
       "</style>\n",
       "<table border=\"1\" class=\"dataframe\">\n",
       "  <thead>\n",
       "    <tr style=\"text-align: right;\">\n",
       "      <th></th>\n",
       "      <th>job_id</th>\n",
       "      <th>title</th>\n",
       "      <th>location</th>\n",
       "      <th>department</th>\n",
       "      <th>salary_range</th>\n",
       "      <th>company_profile</th>\n",
       "      <th>description</th>\n",
       "      <th>requirements</th>\n",
       "      <th>benefits</th>\n",
       "      <th>telecommuting</th>\n",
       "      <th>has_company_logo</th>\n",
       "      <th>has_questions</th>\n",
       "      <th>employment_type</th>\n",
       "      <th>required_experience</th>\n",
       "      <th>required_education</th>\n",
       "      <th>industry</th>\n",
       "      <th>function</th>\n",
       "      <th>fraudulent</th>\n",
       "    </tr>\n",
       "  </thead>\n",
       "  <tbody>\n",
       "    <tr>\n",
       "      <th>0</th>\n",
       "      <td>1</td>\n",
       "      <td>Marketing Intern</td>\n",
       "      <td>US, NY, New York</td>\n",
       "      <td>Marketing</td>\n",
       "      <td>NaN</td>\n",
       "      <td>We're Food52, and we've created a groundbreaki...</td>\n",
       "      <td>Food52, a fast-growing, James Beard Award-winn...</td>\n",
       "      <td>Experience with content management systems a m...</td>\n",
       "      <td>NaN</td>\n",
       "      <td>0</td>\n",
       "      <td>1</td>\n",
       "      <td>0</td>\n",
       "      <td>Other</td>\n",
       "      <td>Internship</td>\n",
       "      <td>NaN</td>\n",
       "      <td>NaN</td>\n",
       "      <td>Marketing</td>\n",
       "      <td>0</td>\n",
       "    </tr>\n",
       "    <tr>\n",
       "      <th>1</th>\n",
       "      <td>2</td>\n",
       "      <td>Customer Service - Cloud Video Production</td>\n",
       "      <td>NZ, , Auckland</td>\n",
       "      <td>Success</td>\n",
       "      <td>NaN</td>\n",
       "      <td>90 Seconds, the worlds Cloud Video Production ...</td>\n",
       "      <td>Organised - Focused - Vibrant - Awesome!Do you...</td>\n",
       "      <td>What we expect from you:Your key responsibilit...</td>\n",
       "      <td>What you will get from usThrough being part of...</td>\n",
       "      <td>0</td>\n",
       "      <td>1</td>\n",
       "      <td>0</td>\n",
       "      <td>Full-time</td>\n",
       "      <td>Not Applicable</td>\n",
       "      <td>NaN</td>\n",
       "      <td>Marketing and Advertising</td>\n",
       "      <td>Customer Service</td>\n",
       "      <td>0</td>\n",
       "    </tr>\n",
       "    <tr>\n",
       "      <th>2</th>\n",
       "      <td>3</td>\n",
       "      <td>Commissioning Machinery Assistant (CMA)</td>\n",
       "      <td>US, IA, Wever</td>\n",
       "      <td>NaN</td>\n",
       "      <td>NaN</td>\n",
       "      <td>Valor Services provides Workforce Solutions th...</td>\n",
       "      <td>Our client, located in Houston, is actively se...</td>\n",
       "      <td>Implement pre-commissioning and commissioning ...</td>\n",
       "      <td>NaN</td>\n",
       "      <td>0</td>\n",
       "      <td>1</td>\n",
       "      <td>0</td>\n",
       "      <td>NaN</td>\n",
       "      <td>NaN</td>\n",
       "      <td>NaN</td>\n",
       "      <td>NaN</td>\n",
       "      <td>NaN</td>\n",
       "      <td>0</td>\n",
       "    </tr>\n",
       "    <tr>\n",
       "      <th>3</th>\n",
       "      <td>4</td>\n",
       "      <td>Account Executive - Washington DC</td>\n",
       "      <td>US, DC, Washington</td>\n",
       "      <td>Sales</td>\n",
       "      <td>NaN</td>\n",
       "      <td>Our passion for improving quality of life thro...</td>\n",
       "      <td>THE COMPANY: ESRI â Environmental Systems Re...</td>\n",
       "      <td>EDUCATION:Â Bachelorâs or Masterâs in GIS,...</td>\n",
       "      <td>Our culture is anything but corporateâwe hav...</td>\n",
       "      <td>0</td>\n",
       "      <td>1</td>\n",
       "      <td>0</td>\n",
       "      <td>Full-time</td>\n",
       "      <td>Mid-Senior level</td>\n",
       "      <td>Bachelor's Degree</td>\n",
       "      <td>Computer Software</td>\n",
       "      <td>Sales</td>\n",
       "      <td>0</td>\n",
       "    </tr>\n",
       "    <tr>\n",
       "      <th>4</th>\n",
       "      <td>5</td>\n",
       "      <td>Bill Review Manager</td>\n",
       "      <td>US, FL, Fort Worth</td>\n",
       "      <td>NaN</td>\n",
       "      <td>NaN</td>\n",
       "      <td>SpotSource Solutions LLC is a Global Human Cap...</td>\n",
       "      <td>JOB TITLE: Itemization Review ManagerLOCATION:...</td>\n",
       "      <td>QUALIFICATIONS:RN license in the State of Texa...</td>\n",
       "      <td>Full Benefits Offered</td>\n",
       "      <td>0</td>\n",
       "      <td>1</td>\n",
       "      <td>1</td>\n",
       "      <td>Full-time</td>\n",
       "      <td>Mid-Senior level</td>\n",
       "      <td>Bachelor's Degree</td>\n",
       "      <td>Hospital &amp; Health Care</td>\n",
       "      <td>Health Care Provider</td>\n",
       "      <td>0</td>\n",
       "    </tr>\n",
       "  </tbody>\n",
       "</table>\n",
       "</div>"
      ],
      "text/plain": [
       "   job_id                                      title            location  \\\n",
       "0       1                           Marketing Intern    US, NY, New York   \n",
       "1       2  Customer Service - Cloud Video Production      NZ, , Auckland   \n",
       "2       3    Commissioning Machinery Assistant (CMA)       US, IA, Wever   \n",
       "3       4          Account Executive - Washington DC  US, DC, Washington   \n",
       "4       5                        Bill Review Manager  US, FL, Fort Worth   \n",
       "\n",
       "  department salary_range                                    company_profile  \\\n",
       "0  Marketing          NaN  We're Food52, and we've created a groundbreaki...   \n",
       "1    Success          NaN  90 Seconds, the worlds Cloud Video Production ...   \n",
       "2        NaN          NaN  Valor Services provides Workforce Solutions th...   \n",
       "3      Sales          NaN  Our passion for improving quality of life thro...   \n",
       "4        NaN          NaN  SpotSource Solutions LLC is a Global Human Cap...   \n",
       "\n",
       "                                         description  \\\n",
       "0  Food52, a fast-growing, James Beard Award-winn...   \n",
       "1  Organised - Focused - Vibrant - Awesome!Do you...   \n",
       "2  Our client, located in Houston, is actively se...   \n",
       "3  THE COMPANY: ESRI â Environmental Systems Re...   \n",
       "4  JOB TITLE: Itemization Review ManagerLOCATION:...   \n",
       "\n",
       "                                        requirements  \\\n",
       "0  Experience with content management systems a m...   \n",
       "1  What we expect from you:Your key responsibilit...   \n",
       "2  Implement pre-commissioning and commissioning ...   \n",
       "3  EDUCATION:Â Bachelorâs or Masterâs in GIS,...   \n",
       "4  QUALIFICATIONS:RN license in the State of Texa...   \n",
       "\n",
       "                                            benefits  telecommuting  \\\n",
       "0                                                NaN              0   \n",
       "1  What you will get from usThrough being part of...              0   \n",
       "2                                                NaN              0   \n",
       "3  Our culture is anything but corporateâwe hav...              0   \n",
       "4                              Full Benefits Offered              0   \n",
       "\n",
       "   has_company_logo  has_questions employment_type required_experience  \\\n",
       "0                 1              0           Other          Internship   \n",
       "1                 1              0       Full-time      Not Applicable   \n",
       "2                 1              0             NaN                 NaN   \n",
       "3                 1              0       Full-time    Mid-Senior level   \n",
       "4                 1              1       Full-time    Mid-Senior level   \n",
       "\n",
       "  required_education                   industry              function  \\\n",
       "0                NaN                        NaN             Marketing   \n",
       "1                NaN  Marketing and Advertising      Customer Service   \n",
       "2                NaN                        NaN                   NaN   \n",
       "3  Bachelor's Degree          Computer Software                 Sales   \n",
       "4  Bachelor's Degree     Hospital & Health Care  Health Care Provider   \n",
       "\n",
       "   fraudulent  \n",
       "0           0  \n",
       "1           0  \n",
       "2           0  \n",
       "3           0  \n",
       "4           0  "
      ]
     },
     "execution_count": 3,
     "metadata": {},
     "output_type": "execute_result"
    }
   ],
   "source": [
    "df.head()"
   ]
  },
  {
   "cell_type": "code",
   "execution_count": 4,
   "id": "4f8c095f-e228-461d-996a-f1e2f9453e30",
   "metadata": {},
   "outputs": [],
   "source": [
    "df1=df.loc[:,['company_profile','description','requirements','benefits','fraudulent']]"
   ]
  },
  {
   "cell_type": "code",
   "execution_count": 5,
   "id": "b64ea332-fb44-4aea-9c61-61d149c42c13",
   "metadata": {},
   "outputs": [
    {
     "data": {
      "text/html": [
       "<div>\n",
       "<style scoped>\n",
       "    .dataframe tbody tr th:only-of-type {\n",
       "        vertical-align: middle;\n",
       "    }\n",
       "\n",
       "    .dataframe tbody tr th {\n",
       "        vertical-align: top;\n",
       "    }\n",
       "\n",
       "    .dataframe thead th {\n",
       "        text-align: right;\n",
       "    }\n",
       "</style>\n",
       "<table border=\"1\" class=\"dataframe\">\n",
       "  <thead>\n",
       "    <tr style=\"text-align: right;\">\n",
       "      <th></th>\n",
       "      <th>company_profile</th>\n",
       "      <th>description</th>\n",
       "      <th>requirements</th>\n",
       "      <th>benefits</th>\n",
       "      <th>fraudulent</th>\n",
       "    </tr>\n",
       "  </thead>\n",
       "  <tbody>\n",
       "    <tr>\n",
       "      <th>0</th>\n",
       "      <td>We're Food52, and we've created a groundbreaki...</td>\n",
       "      <td>Food52, a fast-growing, James Beard Award-winn...</td>\n",
       "      <td>Experience with content management systems a m...</td>\n",
       "      <td>NaN</td>\n",
       "      <td>0</td>\n",
       "    </tr>\n",
       "    <tr>\n",
       "      <th>1</th>\n",
       "      <td>90 Seconds, the worlds Cloud Video Production ...</td>\n",
       "      <td>Organised - Focused - Vibrant - Awesome!Do you...</td>\n",
       "      <td>What we expect from you:Your key responsibilit...</td>\n",
       "      <td>What you will get from usThrough being part of...</td>\n",
       "      <td>0</td>\n",
       "    </tr>\n",
       "    <tr>\n",
       "      <th>2</th>\n",
       "      <td>Valor Services provides Workforce Solutions th...</td>\n",
       "      <td>Our client, located in Houston, is actively se...</td>\n",
       "      <td>Implement pre-commissioning and commissioning ...</td>\n",
       "      <td>NaN</td>\n",
       "      <td>0</td>\n",
       "    </tr>\n",
       "    <tr>\n",
       "      <th>3</th>\n",
       "      <td>Our passion for improving quality of life thro...</td>\n",
       "      <td>THE COMPANY: ESRI â Environmental Systems Re...</td>\n",
       "      <td>EDUCATION:Â Bachelorâs or Masterâs in GIS,...</td>\n",
       "      <td>Our culture is anything but corporateâwe hav...</td>\n",
       "      <td>0</td>\n",
       "    </tr>\n",
       "    <tr>\n",
       "      <th>4</th>\n",
       "      <td>SpotSource Solutions LLC is a Global Human Cap...</td>\n",
       "      <td>JOB TITLE: Itemization Review ManagerLOCATION:...</td>\n",
       "      <td>QUALIFICATIONS:RN license in the State of Texa...</td>\n",
       "      <td>Full Benefits Offered</td>\n",
       "      <td>0</td>\n",
       "    </tr>\n",
       "  </tbody>\n",
       "</table>\n",
       "</div>"
      ],
      "text/plain": [
       "                                     company_profile  \\\n",
       "0  We're Food52, and we've created a groundbreaki...   \n",
       "1  90 Seconds, the worlds Cloud Video Production ...   \n",
       "2  Valor Services provides Workforce Solutions th...   \n",
       "3  Our passion for improving quality of life thro...   \n",
       "4  SpotSource Solutions LLC is a Global Human Cap...   \n",
       "\n",
       "                                         description  \\\n",
       "0  Food52, a fast-growing, James Beard Award-winn...   \n",
       "1  Organised - Focused - Vibrant - Awesome!Do you...   \n",
       "2  Our client, located in Houston, is actively se...   \n",
       "3  THE COMPANY: ESRI â Environmental Systems Re...   \n",
       "4  JOB TITLE: Itemization Review ManagerLOCATION:...   \n",
       "\n",
       "                                        requirements  \\\n",
       "0  Experience with content management systems a m...   \n",
       "1  What we expect from you:Your key responsibilit...   \n",
       "2  Implement pre-commissioning and commissioning ...   \n",
       "3  EDUCATION:Â Bachelorâs or Masterâs in GIS,...   \n",
       "4  QUALIFICATIONS:RN license in the State of Texa...   \n",
       "\n",
       "                                            benefits  fraudulent  \n",
       "0                                                NaN           0  \n",
       "1  What you will get from usThrough being part of...           0  \n",
       "2                                                NaN           0  \n",
       "3  Our culture is anything but corporateâwe hav...           0  \n",
       "4                              Full Benefits Offered           0  "
      ]
     },
     "execution_count": 5,
     "metadata": {},
     "output_type": "execute_result"
    }
   ],
   "source": [
    "df1.head()"
   ]
  },
  {
   "cell_type": "code",
   "execution_count": 6,
   "id": "34829750-6f2d-4efa-96c5-70917fa15316",
   "metadata": {},
   "outputs": [
    {
     "data": {
      "text/plain": [
       "company_profile    3308\n",
       "description           1\n",
       "requirements       2696\n",
       "benefits           7212\n",
       "dtype: int64"
      ]
     },
     "execution_count": 6,
     "metadata": {},
     "output_type": "execute_result"
    }
   ],
   "source": [
    "df1.isnull().sum()[df1.isnull().sum()>0]"
   ]
  },
  {
   "cell_type": "code",
   "execution_count": 7,
   "id": "c572ffff-5514-425f-8e16-06ba76f4814f",
   "metadata": {},
   "outputs": [],
   "source": [
    "df1=df1.drop(columns=['benefits','requirements','company_profile'],axis=1)"
   ]
  },
  {
   "cell_type": "code",
   "execution_count": 8,
   "id": "9cf4109e-04d6-4c19-9275-e0bc65a0de22",
   "metadata": {},
   "outputs": [
    {
     "data": {
      "text/html": [
       "<div>\n",
       "<style scoped>\n",
       "    .dataframe tbody tr th:only-of-type {\n",
       "        vertical-align: middle;\n",
       "    }\n",
       "\n",
       "    .dataframe tbody tr th {\n",
       "        vertical-align: top;\n",
       "    }\n",
       "\n",
       "    .dataframe thead th {\n",
       "        text-align: right;\n",
       "    }\n",
       "</style>\n",
       "<table border=\"1\" class=\"dataframe\">\n",
       "  <thead>\n",
       "    <tr style=\"text-align: right;\">\n",
       "      <th></th>\n",
       "      <th>description</th>\n",
       "      <th>fraudulent</th>\n",
       "    </tr>\n",
       "  </thead>\n",
       "  <tbody>\n",
       "    <tr>\n",
       "      <th>0</th>\n",
       "      <td>Food52, a fast-growing, James Beard Award-winn...</td>\n",
       "      <td>0</td>\n",
       "    </tr>\n",
       "    <tr>\n",
       "      <th>1</th>\n",
       "      <td>Organised - Focused - Vibrant - Awesome!Do you...</td>\n",
       "      <td>0</td>\n",
       "    </tr>\n",
       "    <tr>\n",
       "      <th>2</th>\n",
       "      <td>Our client, located in Houston, is actively se...</td>\n",
       "      <td>0</td>\n",
       "    </tr>\n",
       "    <tr>\n",
       "      <th>3</th>\n",
       "      <td>THE COMPANY: ESRI â Environmental Systems Re...</td>\n",
       "      <td>0</td>\n",
       "    </tr>\n",
       "    <tr>\n",
       "      <th>4</th>\n",
       "      <td>JOB TITLE: Itemization Review ManagerLOCATION:...</td>\n",
       "      <td>0</td>\n",
       "    </tr>\n",
       "  </tbody>\n",
       "</table>\n",
       "</div>"
      ],
      "text/plain": [
       "                                         description  fraudulent\n",
       "0  Food52, a fast-growing, James Beard Award-winn...           0\n",
       "1  Organised - Focused - Vibrant - Awesome!Do you...           0\n",
       "2  Our client, located in Houston, is actively se...           0\n",
       "3  THE COMPANY: ESRI â Environmental Systems Re...           0\n",
       "4  JOB TITLE: Itemization Review ManagerLOCATION:...           0"
      ]
     },
     "execution_count": 8,
     "metadata": {},
     "output_type": "execute_result"
    }
   ],
   "source": [
    "df1.head()"
   ]
  },
  {
   "cell_type": "code",
   "execution_count": 9,
   "id": "d824a7eb-c465-4763-b5cb-4f216d42a17b",
   "metadata": {},
   "outputs": [],
   "source": [
    "df1.description.fillna(df1.description.mode()[0],inplace=True)"
   ]
  },
  {
   "cell_type": "code",
   "execution_count": 10,
   "id": "27bb61b3-2ed4-4cd3-b60d-4d453e1b5f89",
   "metadata": {},
   "outputs": [
    {
     "data": {
      "text/plain": [
       "Series([], dtype: int64)"
      ]
     },
     "execution_count": 10,
     "metadata": {},
     "output_type": "execute_result"
    }
   ],
   "source": [
    "df1.isnull().sum()[df1.isnull().sum()>0]\n"
   ]
  },
  {
   "cell_type": "code",
   "execution_count": 11,
   "id": "1a522966-7ed6-4326-925e-fe9b5281c430",
   "metadata": {},
   "outputs": [
    {
     "data": {
      "text/plain": [
       "fraudulent\n",
       "0    17014\n",
       "1      866\n",
       "Name: count, dtype: int64"
      ]
     },
     "execution_count": 11,
     "metadata": {},
     "output_type": "execute_result"
    }
   ],
   "source": [
    "df1.fraudulent.value_counts()"
   ]
  },
  {
   "cell_type": "code",
   "execution_count": 12,
   "id": "2c013c05-5dee-4c06-9820-1b88a4b23705",
   "metadata": {},
   "outputs": [],
   "source": [
    "df1=df1.rename(columns={'description':'x','fraudulent':'y'})"
   ]
  },
  {
   "cell_type": "code",
   "execution_count": 13,
   "id": "da1e60a3-0280-40b3-8b8c-b9848caa1589",
   "metadata": {},
   "outputs": [
    {
     "data": {
      "text/html": [
       "<div>\n",
       "<style scoped>\n",
       "    .dataframe tbody tr th:only-of-type {\n",
       "        vertical-align: middle;\n",
       "    }\n",
       "\n",
       "    .dataframe tbody tr th {\n",
       "        vertical-align: top;\n",
       "    }\n",
       "\n",
       "    .dataframe thead th {\n",
       "        text-align: right;\n",
       "    }\n",
       "</style>\n",
       "<table border=\"1\" class=\"dataframe\">\n",
       "  <thead>\n",
       "    <tr style=\"text-align: right;\">\n",
       "      <th></th>\n",
       "      <th>x</th>\n",
       "      <th>y</th>\n",
       "    </tr>\n",
       "  </thead>\n",
       "  <tbody>\n",
       "    <tr>\n",
       "      <th>0</th>\n",
       "      <td>Food52, a fast-growing, James Beard Award-winn...</td>\n",
       "      <td>0</td>\n",
       "    </tr>\n",
       "    <tr>\n",
       "      <th>1</th>\n",
       "      <td>Organised - Focused - Vibrant - Awesome!Do you...</td>\n",
       "      <td>0</td>\n",
       "    </tr>\n",
       "    <tr>\n",
       "      <th>2</th>\n",
       "      <td>Our client, located in Houston, is actively se...</td>\n",
       "      <td>0</td>\n",
       "    </tr>\n",
       "    <tr>\n",
       "      <th>3</th>\n",
       "      <td>THE COMPANY: ESRI â Environmental Systems Re...</td>\n",
       "      <td>0</td>\n",
       "    </tr>\n",
       "    <tr>\n",
       "      <th>4</th>\n",
       "      <td>JOB TITLE: Itemization Review ManagerLOCATION:...</td>\n",
       "      <td>0</td>\n",
       "    </tr>\n",
       "  </tbody>\n",
       "</table>\n",
       "</div>"
      ],
      "text/plain": [
       "                                                   x  y\n",
       "0  Food52, a fast-growing, James Beard Award-winn...  0\n",
       "1  Organised - Focused - Vibrant - Awesome!Do you...  0\n",
       "2  Our client, located in Houston, is actively se...  0\n",
       "3  THE COMPANY: ESRI â Environmental Systems Re...  0\n",
       "4  JOB TITLE: Itemization Review ManagerLOCATION:...  0"
      ]
     },
     "execution_count": 13,
     "metadata": {},
     "output_type": "execute_result"
    }
   ],
   "source": [
    "df1.head()"
   ]
  },
  {
   "cell_type": "code",
   "execution_count": 14,
   "id": "a703e751-62c1-414d-98cc-693eb6fadf77",
   "metadata": {
    "scrolled": true
   },
   "outputs": [
    {
     "data": {
      "text/plain": [
       "\"THE COMPANY: ESRI â\\x80\\x93 Environmental Systems Research InstituteOur passion for improving quality of life through geography is at the heart of everything we do.Â\\xa0 Esriâ\\x80\\x99s geographic information system (GIS) technology inspires and enables governments, universities and businesses worldwide to save money, lives and our environment through a deeper understanding of the changing world around them.Carefully managed growth and zero debt give Esri stability that is uncommon in today's volatile business world.Â\\xa0 Privately held, we offer exceptional benefits, competitive salaries, 401(k) and profit-sharing programs, opportunities for personal and professional growth, and much more.THE OPPORTUNITY: Account ExecutiveAs a member of the Sales Division, you will work collaboratively with an account team in order to sell and promote adoption of Esriâ\\x80\\x99s ArcGIS platform within an organization. As part of an account team, you will be responsible for facilitating the development and execution of a set of strategies for a defined portfolio of accounts. When executing these strategies you will utilize your experience in enterprise sales to help customers leverage geospatial information and technology to achieve their business goals.Â\\xa0Specificallyâ\\x80¦Prospect and develop opportunities to partner with key stakeholders to envision, develop, and implement a location strategy for their organizationClearly articulate the strength and value proposition of the ArcGIS platformDevelop and maintain a healthy pipeline of opportunities for business growthDemonstrate a thoughtful understanding of insightful industry knowledge and how GIS applies to initiatives, trends, and triggersUnderstand the key business drivers within an organization and identify key business stakeholdersUnderstand your customersâ\\x80\\x99 budgeting and acquisition processesSuccessfully execute the account management process including account prioritization, account resourcing, and account planningSuccessfully execute the sales process for all opportunitiesLeverage and lead an account team consisting of sales and other cross-divisional resources to define and execute an account strategyEffectively utilize and leverage the CRM to manage opportunities and drive the buying processPursue professional and personal development to ensure competitive knowledge of the real estate industryLeverage social media to successfully prospect and build a professional networkParticipate in trade shows, workshops, and seminars (as required)Support visual story telling through effective whiteboard sessionsBe resourceful and takes initiative to resolve issues\""
      ]
     },
     "execution_count": 14,
     "metadata": {},
     "output_type": "execute_result"
    }
   ],
   "source": [
    "df1['x'][3] "
   ]
  },
  {
   "cell_type": "code",
   "execution_count": 16,
   "id": "270150e9-d510-48ba-b7b7-8169004a42af",
   "metadata": {},
   "outputs": [],
   "source": [
    "t=\"THE COMPANY: ESRI â\\x80\\x93 Environmental Systems Research InstituteOur passion for improving quality of life through geography is at the heart of everything we do.Â\\xa0 Esriâ\\x80\\x99s geographic information system (GIS) technology inspires and enables governments, universities and businesses worldwide to save money, lives and our environment through a deeper understanding of the changing world around them.Carefully managed growth and zero debt give Esri stability that is uncommon in today's volatile business world.Â\\xa0 Privately held, we offer exceptional benefits, competitive salaries, 401(k) and profit-sharing programs, opportunities for personal and professional growth, and much more.THE OPPORTUNITY: Account ExecutiveAs a member of the Sales Division, you will work collaboratively with an account team in order to sell and promote adoption of Esriâ\\x80\\x99s ArcGIS platform within an organization. As part of an account team, you will be responsible for facilitating the development and execution of a set of strategies for a defined portfolio of accounts. When executing these strategies you will utilize your experience in enterprise sales to help customers leverage geospatial information and technology to achieve their business goals.Â\\xa0Specificallyâ\\x80¦Prospect and develop opportunities to partner with key stakeholders to envision, develop, and implement a location strategy for their organizationClearly articulate the strength and value proposition of the ArcGIS platformDevelop and maintain a healthy pipeline of opportunities for business growthDemonstrate a thoughtful understanding of insightful industry knowledge and how GIS applies to initiatives, trends, and triggersUnderstand the key business drivers within an organization and identify key business stakeholdersUnderstand your customersâ\\x80\\x99 budgeting and acquisition processesSuccessfully execute the account management process including account prioritization, account resourcing, and account planningSuccessfully execute the sales process for all opportunitiesLeverage and lead an account team consisting of sales and other cross-divisional resources to define and execute an account strategyEffectively utilize and leverage the CRM to manage opportunities and drive the buying processPursue professional and personal development to ensure competitive knowledge of the real estate industryLeverage social media to successfully prospect and build a professional networkParticipate in trade shows, workshops, and seminars (as required)Support visual story telling through effective whiteboard sessionsBe resourceful and takes initiative to resolve issues\"\n",
    "\n"
   ]
  },
  {
   "cell_type": "code",
   "execution_count": 17,
   "id": "3a92a4be-0a17-4fc3-aa06-89d165d167a0",
   "metadata": {},
   "outputs": [
    {
     "data": {
      "text/plain": [
       "'the company esri  environmental systems research instituteour passion for improving quality of life through geography is at the heart of everything we do. esris geographic information system gis technology inspires and enables governments, universities and businesses worldwide to save money, lives and our environment through a deeper understanding of the changing world around them.carefully managed growth and zero debt give esri stability that is uncommon in todays volatile business world. privately held, we offer exceptional benefits, competitive salaries, 401k and profitsharing programs, opportunities for personal and professional growth, and much more.the opportunity account executiveas a member of the sales division, you will work collaboratively with an account team in order to sell and promote adoption of esris arcgis platform within an organization. as part of an account team, you will be responsible for facilitating the development and execution of a set of strategies for a defined portfolio of accounts. when executing these strategies you will utilize your experience in enterprise sales to help customers leverage geospatial information and technology to achieve their business goals. specifically...prospect and develop opportunities to partner with key stakeholders to envision, develop, and implement a location strategy for their organizationclearly articulate the strength and value proposition of the arcgis platformdevelop and maintain a healthy pipeline of opportunities for business growthdemonstrate a thoughtful understanding of insightful industry knowledge and how gis applies to initiatives, trends, and triggersunderstand the key business drivers within an organization and identify key business stakeholdersunderstand your customers budgeting and acquisition processessuccessfully execute the account management process including account prioritization, account resourcing, and account planningsuccessfully execute the sales process for all opportunitiesleverage and lead an account team consisting of sales and other crossdivisional resources to define and execute an account strategyeffectively utilize and leverage the crm to manage opportunities and drive the buying processpursue professional and personal development to ensure competitive knowledge of the real estate industryleverage social media to successfully prospect and build a professional networkparticipate in trade shows, workshops, and seminars as requiredsupport visual story telling through effective whiteboard sessionsbe resourceful and takes initiative to resolve issues'"
      ]
     },
     "execution_count": 17,
     "metadata": {},
     "output_type": "execute_result"
    }
   ],
   "source": [
    "import re\n",
    "import html\n",
    "\n",
    "def clean_text(text):\n",
    "    # Convert HTML entities to normal characters\n",
    "    text = html.unescape(text)\n",
    "    \n",
    "    # Replace special characters like â\\x80\\x93, Â\\xa0, etc. with their actual characters\n",
    "    text = text.replace(\"â\\x80\\x93\", \"-\").replace(\"Â\\xa0\", \" \").replace(\"â\\x80\\x99\", \"'\").replace(\"â\\x80¦\", \"...\")\n",
    "    \n",
    "    # Normalize whitespaces\n",
    "    text = re.sub(r'\\s+', ' ', text)\n",
    "    \n",
    "    # Lowercase the text\n",
    "    text = text.lower()\n",
    "    \n",
    "    # Remove non-alphanumeric characters except for punctuation\n",
    "    text = re.sub(r'[^a-zA-Z0-9.,?!\\s]', '', text)\n",
    "    \n",
    "    return text\n",
    "clean_text(t)\n",
    "# Example usage"
   ]
  },
  {
   "cell_type": "code",
   "execution_count": 18,
   "id": "477ef550-9773-44e2-8554-8242eb0d0868",
   "metadata": {},
   "outputs": [],
   "source": [
    "df1.x=df1.x.apply(clean_text)"
   ]
  },
  {
   "cell_type": "code",
   "execution_count": 19,
   "id": "5cba1fe3-c540-4740-acbd-714956845db3",
   "metadata": {},
   "outputs": [
    {
     "data": {
      "text/html": [
       "<div>\n",
       "<style scoped>\n",
       "    .dataframe tbody tr th:only-of-type {\n",
       "        vertical-align: middle;\n",
       "    }\n",
       "\n",
       "    .dataframe tbody tr th {\n",
       "        vertical-align: top;\n",
       "    }\n",
       "\n",
       "    .dataframe thead th {\n",
       "        text-align: right;\n",
       "    }\n",
       "</style>\n",
       "<table border=\"1\" class=\"dataframe\">\n",
       "  <thead>\n",
       "    <tr style=\"text-align: right;\">\n",
       "      <th></th>\n",
       "      <th>x</th>\n",
       "      <th>y</th>\n",
       "    </tr>\n",
       "  </thead>\n",
       "  <tbody>\n",
       "    <tr>\n",
       "      <th>0</th>\n",
       "      <td>food52, a fastgrowing, james beard awardwinnin...</td>\n",
       "      <td>0</td>\n",
       "    </tr>\n",
       "    <tr>\n",
       "      <th>1</th>\n",
       "      <td>organised  focused  vibrant  awesome!do you ha...</td>\n",
       "      <td>0</td>\n",
       "    </tr>\n",
       "    <tr>\n",
       "      <th>2</th>\n",
       "      <td>our client, located in houston, is actively se...</td>\n",
       "      <td>0</td>\n",
       "    </tr>\n",
       "    <tr>\n",
       "      <th>3</th>\n",
       "      <td>the company esri  environmental systems resear...</td>\n",
       "      <td>0</td>\n",
       "    </tr>\n",
       "    <tr>\n",
       "      <th>4</th>\n",
       "      <td>job title itemization review managerlocation f...</td>\n",
       "      <td>0</td>\n",
       "    </tr>\n",
       "  </tbody>\n",
       "</table>\n",
       "</div>"
      ],
      "text/plain": [
       "                                                   x  y\n",
       "0  food52, a fastgrowing, james beard awardwinnin...  0\n",
       "1  organised  focused  vibrant  awesome!do you ha...  0\n",
       "2  our client, located in houston, is actively se...  0\n",
       "3  the company esri  environmental systems resear...  0\n",
       "4  job title itemization review managerlocation f...  0"
      ]
     },
     "execution_count": 19,
     "metadata": {},
     "output_type": "execute_result"
    }
   ],
   "source": [
    "df1.head()"
   ]
  },
  {
   "cell_type": "code",
   "execution_count": 109,
   "id": "048cbd18-1341-46fa-909a-d415f56081f9",
   "metadata": {},
   "outputs": [
    {
     "data": {
      "text/plain": [
       "array(['food52, a fastgrowing, james beard awardwinning online food community and crowdsourced and curated recipe hub, is currently interviewing full and parttime unpaid interns to work in a small team of editors, executives, and developers in its new york city headquarters.reproducing andor repackaging existing food52 content for a number of partner sites, such as huffington post, yahoo, buzzfeed, and more in their various content management systemsresearching blogs and websites for the provisions by food52 affiliate programassisting in daytoday affiliate program support, such as screening affiliates and assisting in any affiliate inquiriessupporting with pr  events when neededhelping with office administrative work, such as filing, mailing, and preparing for meetingsworking with developers to document bugs and suggest improvements to the sitesupporting the marketing and executive staff',\n",
       "       'organised  focused  vibrant  awesome!do you have a passion for customer service? slick typing skills? maybe account management? ...and think administration is cooler than a polar bear on a jetski? then we need to hear you! we are the cloud video production service and opperating on a glodal level. yeah, its pretty cool. serious about delivering a world class product and excellent customer service.our rapidly expanding business is looking for a talented project manager to manage the successful delivery of video projects, manage client communications and drive the production process. work with some of the coolest brands on the planet and learn from a global team that are representing nz is a huge way!we are entering the next growth stage of our business and growing quickly internationally. therefore, the position is bursting with opportunity for the right person entering the business at the right time. 90 seconds, the worlds cloud video production service  http90urlfbe6559afac620a3cd2c22281f7b8d0eef56a73e3d9a311e2f1ca13d081dd63090 seconds is the worlds cloud video production service enabling brands and agencies to get high quality online video content shot and produced anywhere in the world. fast, affordable, and all managed seamlessly in the cloud from purchase to publish. 90 seconds removes the hassle, cost, risk and speed issues of working with regular video production companies by managing every aspect of video projects in a beautiful online experience. with a growing network of over 2,000 rated video professionals in over 50 countries and dedicated production success teams in 5 countries guaranteeing video project success 100. its as easy as commissioning a quick google adwords campaign.90 seconds has produced almost 4,000 videos in over 30 countries for over 500 global brands including some of the worlds largest including paypal, loreal, sony and barclays and has offices in auckland, london, sydney, tokyo  singapore.our auckland office is based right in the heart of the wynyard quarter innovation precinct  gridakl! ',\n",
       "       'our client, located in houston, is actively seeking an experienced commissioning machinery assistant that possesses strong supervisory skills and has an attention to detail. a strong dedication to safety is a must. the ideal candidate will execute all activities while complying with quality requirements and health, environmental, and safety regulations.',\n",
       "       ...,\n",
       "       'the payroll accountant will focus primarily on payroll functions for approximately 100 and counting! employees. in addition, this individual will assist with various tasks within the accounting department of a rapidly growing, cutting edge web development company.the ideal candidate would be wellversed in payroll and possess the experience and autonomy to be able to work with minimal supervision while fulfilling all obligations in a fun, open work environment. candidate must also possess expertise in application of accounting principles and practices to provide support for the accounting team.responsibilities process semimonthly payroll through outsourced payroll service handle all accounting, analysis and administrative functions relating to payroll resolve and respond timely to payrollrelated inquiries and issues benefits administration, including point of contact for third party vendors complete payroll general account analysis and journal entries perform internal payroll reviews to ensure accuracy and compliance maintain employee personnel files coordinate annual renewals for flexible spending and transit reimbursement programs assist the accounting team with accounts payable ',\n",
       "       'experienced project cost control staff engineer is required having responsibility to provide proper variance explanation and root causes analysis of changes d  166job responsibilities cost control for large capital investments of various size and complexityactive participation in the overall cost control process. ensure proper progress tracking and change management systems are in place and effectively functioning in construction and detailed engineering phases of projects.provide proper variance explanation and root causes analysis of changesdevelopment of project cost forecast and preparation of project cost reportsassist in the development and improvement of cost controlling tools and processes.strong analytical skills that will allow proper assessments of projects to identify potential issues. able support development and recommend solutions via communication and support with project management.perform studies and analysisperform bid analysis for complex service contractsperform audits of invoicesevaluate field change orders and validate contractor estimate and pricingdevelopment and support of contracting strategy for large capital projectswill be required to work both independently and with a team in carrying out a projects cost control and forecasting efforts ',\n",
       "       'nemsia studios is looking for an experienced visualgraphic designer to join our lagos office. the idealcandidate will be versatile in both print and digital design mediums. working closely with our strategists and creative team you will be engaged on projects from the pitch phase through brainstorming, concepting, and design to execution and final delivery. you will bring your all to creating and crafting beautiful visual expressions of ideas and briefs. we will always have ongoing internal projects.'],\n",
       "      dtype=object)"
      ]
     },
     "execution_count": 109,
     "metadata": {},
     "output_type": "execute_result"
    }
   ],
   "source": [
    "df1.x.unique()"
   ]
  },
  {
   "cell_type": "code",
   "execution_count": 20,
   "id": "9da55d3c-eaef-47a7-b27c-a88234f830b9",
   "metadata": {},
   "outputs": [],
   "source": [
    "from nltk.corpus import stopwords"
   ]
  },
  {
   "cell_type": "code",
   "execution_count": 21,
   "id": "d60a3530-21e3-4fc2-b84a-b3231426ab69",
   "metadata": {},
   "outputs": [],
   "source": [
    "l1=stopwords.words('english')\n"
   ]
  },
  {
   "cell_type": "code",
   "execution_count": 22,
   "id": "d4efb4e4-4aa5-4c01-bef0-952dc15b8488",
   "metadata": {},
   "outputs": [
    {
     "data": {
      "text/plain": [
       "'!\"#$%&\\'()*+,-./:;<=>?@[\\\\]^_`{|}~'"
      ]
     },
     "execution_count": 22,
     "metadata": {},
     "output_type": "execute_result"
    }
   ],
   "source": [
    "import string\n",
    "string.punctuation"
   ]
  },
  {
   "cell_type": "code",
   "execution_count": 23,
   "id": "2d027443-4f5d-48fc-92db-f1fae184fccc",
   "metadata": {},
   "outputs": [],
   "source": [
    "def text_process(df):\n",
    "    \"\"\" 1 remove stopwords\n",
    "        2 remove punctuation\n",
    "        3 return list of clean words\"\"\"\n",
    "    nonpunc=[i for i in df if i not in string.punctuation]\n",
    "    nonpunc=\"\".join(nonpunc)\n",
    "    return [word for word in nonpunc.split() if word not in l1 ]\n",
    "    "
   ]
  },
  {
   "cell_type": "code",
   "execution_count": 24,
   "id": "2aa033e1-18f4-4cb7-9368-155fff03292c",
   "metadata": {},
   "outputs": [
    {
     "data": {
      "text/plain": [
       "0        [food52, fastgrowing, james, beard, awardwinni...\n",
       "1        [organised, focused, vibrant, awesomedo, passi...\n",
       "2        [client, located, houston, actively, seeking, ...\n",
       "3        [company, esri, environmental, systems, resear...\n",
       "4        [job, title, itemization, review, managerlocat...\n",
       "                               ...                        \n",
       "17875    [case, first, time, youve, visited, website, v...\n",
       "17876    [payroll, accountant, focus, primarily, payrol...\n",
       "17877    [experienced, project, cost, control, staff, e...\n",
       "17878    [nemsia, studios, looking, experienced, visual...\n",
       "17879    [wevend, award, winning, web, based, point, sa...\n",
       "Name: x, Length: 17880, dtype: object"
      ]
     },
     "execution_count": 24,
     "metadata": {},
     "output_type": "execute_result"
    }
   ],
   "source": [
    "df1['x'].apply(text_process)"
   ]
  },
  {
   "cell_type": "code",
   "execution_count": 115,
   "id": "c919b6b6-9650-43f1-bddc-a10ba59a12e7",
   "metadata": {},
   "outputs": [
    {
     "data": {
      "text/html": [
       "<div>\n",
       "<style scoped>\n",
       "    .dataframe tbody tr th:only-of-type {\n",
       "        vertical-align: middle;\n",
       "    }\n",
       "\n",
       "    .dataframe tbody tr th {\n",
       "        vertical-align: top;\n",
       "    }\n",
       "\n",
       "    .dataframe thead th {\n",
       "        text-align: right;\n",
       "    }\n",
       "</style>\n",
       "<table border=\"1\" class=\"dataframe\">\n",
       "  <thead>\n",
       "    <tr style=\"text-align: right;\">\n",
       "      <th></th>\n",
       "      <th>x</th>\n",
       "      <th>y</th>\n",
       "    </tr>\n",
       "  </thead>\n",
       "  <tbody>\n",
       "    <tr>\n",
       "      <th>0</th>\n",
       "      <td>food52, a fastgrowing, james beard awardwinnin...</td>\n",
       "      <td>0</td>\n",
       "    </tr>\n",
       "    <tr>\n",
       "      <th>1</th>\n",
       "      <td>organised  focused  vibrant  awesome!do you ha...</td>\n",
       "      <td>0</td>\n",
       "    </tr>\n",
       "    <tr>\n",
       "      <th>2</th>\n",
       "      <td>our client, located in houston, is actively se...</td>\n",
       "      <td>0</td>\n",
       "    </tr>\n",
       "    <tr>\n",
       "      <th>3</th>\n",
       "      <td>the company esri  environmental systems resear...</td>\n",
       "      <td>0</td>\n",
       "    </tr>\n",
       "    <tr>\n",
       "      <th>4</th>\n",
       "      <td>job title itemization review managerlocation f...</td>\n",
       "      <td>0</td>\n",
       "    </tr>\n",
       "  </tbody>\n",
       "</table>\n",
       "</div>"
      ],
      "text/plain": [
       "                                                   x  y\n",
       "0  food52, a fastgrowing, james beard awardwinnin...  0\n",
       "1  organised  focused  vibrant  awesome!do you ha...  0\n",
       "2  our client, located in houston, is actively se...  0\n",
       "3  the company esri  environmental systems resear...  0\n",
       "4  job title itemization review managerlocation f...  0"
      ]
     },
     "execution_count": 115,
     "metadata": {},
     "output_type": "execute_result"
    }
   ],
   "source": [
    "df1.head()"
   ]
  },
  {
   "cell_type": "code",
   "execution_count": 26,
   "id": "596ab333-76aa-42c2-988b-61a7e3a66365",
   "metadata": {},
   "outputs": [],
   "source": [
    "from sklearn.feature_extraction.text import CountVectorizer"
   ]
  },
  {
   "cell_type": "code",
   "execution_count": 27,
   "id": "d2ff828b-25b6-4e97-94cf-58c392776696",
   "metadata": {},
   "outputs": [
    {
     "name": "stdout",
     "output_type": "stream",
     "text": [
      "exc==---->>> 11.045208215713501\n"
     ]
    }
   ],
   "source": [
    "import time\n",
    "start=time.time()\n",
    "bow_transformer=CountVectorizer(analyzer=text_process).fit(df1['x'])\n",
    "stop=time.time()\n",
    "print(f\"exc==---->>> {(stop-start)}\")"
   ]
  },
  {
   "cell_type": "code",
   "execution_count": 31,
   "id": "0798b226-9811-4999-9e24-f6e3088a3e8f",
   "metadata": {},
   "outputs": [],
   "source": [
    "import pickle\n",
    "pickle.dump(bow_transformer,open(r\"C:\\Users\\Anjaney Deshpande\\Desktop\\datazip\\bow_transformer.pkl\",'wb'))"
   ]
  },
  {
   "cell_type": "code",
   "execution_count": 29,
   "id": "e169ff92-10ff-494a-a2a5-083d4906e8cd",
   "metadata": {},
   "outputs": [],
   "source": [
    "# bow_transformer.vocabulary_"
   ]
  },
  {
   "cell_type": "code",
   "execution_count": 32,
   "id": "e97cd48b-6e6c-4c2a-b597-0d1c2fcdcfc8",
   "metadata": {},
   "outputs": [],
   "source": [
    "tdm=bow_transformer.transform(df1['x'])"
   ]
  },
  {
   "cell_type": "code",
   "execution_count": 33,
   "id": "1971673c-7607-44f8-9788-987e9cabcc3f",
   "metadata": {},
   "outputs": [],
   "source": [
    "from sklearn.model_selection import train_test_split\n",
    "tdm_train,tdm_test,train_y,test_y=train_test_split(tdm,df1['y'],test_size=.2)"
   ]
  },
  {
   "cell_type": "code",
   "execution_count": 34,
   "id": "72b55000-62fd-4e43-a6c8-03102ba53a6e",
   "metadata": {},
   "outputs": [],
   "source": [
    "from imblearn.over_sampling import SMOTE    \n",
    "smote = SMOTE(sampling_strategy='auto', random_state=42)\n",
    "df1_train_x_resampled,df1_train_y_resampled = smote.fit_resample(tdm_train,train_y)"
   ]
  },
  {
   "cell_type": "code",
   "execution_count": 134,
   "id": "1ced683e-1eb2-4652-8993-97feb46d2af5",
   "metadata": {},
   "outputs": [
    {
     "name": "stdout",
     "output_type": "stream",
     "text": [
      "Fitting 5 folds for each of 5 candidates, totalling 25 fits\n",
      "Best parameters set found on development set:\n",
      "{'alpha': 0.1}\n"
     ]
    }
   ],
   "source": [
    "# from sklearn.model_selection import GridSearchCV\n",
    "# from sklearn.naive_bayes import MultinomialNB\n",
    "\n",
    "# nb=MultinomialNB()\n",
    "# param_grid = { \n",
    "#      'alpha': [0.1, 0.5, 1.0, 5.0, 10.0]\n",
    "    \n",
    "# }\n",
    "# # Create the GridSearchCV object\n",
    "# grid_search = GridSearchCV(nb,param_grid, cv=5, n_jobs=-1, verbose=2)\n",
    "\n",
    "# # Fit the grid search to the data\n",
    "# grid_search.fit(df1_train_x_resampled,df1_train_y_resampled)\n",
    "\n",
    "# # Print the best parameters and the best score\n",
    "# print(\"Best parameters set found on development set:\")\n",
    "# print(grid_search.best_params_)"
   ]
  },
  {
   "cell_type": "code",
   "execution_count": 135,
   "id": "279bfde3-78bc-4c39-b125-6f78f9aadc4b",
   "metadata": {},
   "outputs": [
    {
     "data": {
      "text/html": [
       "<style>#sk-container-id-3 {color: black;background-color: white;}#sk-container-id-3 pre{padding: 0;}#sk-container-id-3 div.sk-toggleable {background-color: white;}#sk-container-id-3 label.sk-toggleable__label {cursor: pointer;display: block;width: 100%;margin-bottom: 0;padding: 0.3em;box-sizing: border-box;text-align: center;}#sk-container-id-3 label.sk-toggleable__label-arrow:before {content: \"▸\";float: left;margin-right: 0.25em;color: #696969;}#sk-container-id-3 label.sk-toggleable__label-arrow:hover:before {color: black;}#sk-container-id-3 div.sk-estimator:hover label.sk-toggleable__label-arrow:before {color: black;}#sk-container-id-3 div.sk-toggleable__content {max-height: 0;max-width: 0;overflow: hidden;text-align: left;background-color: #f0f8ff;}#sk-container-id-3 div.sk-toggleable__content pre {margin: 0.2em;color: black;border-radius: 0.25em;background-color: #f0f8ff;}#sk-container-id-3 input.sk-toggleable__control:checked~div.sk-toggleable__content {max-height: 200px;max-width: 100%;overflow: auto;}#sk-container-id-3 input.sk-toggleable__control:checked~label.sk-toggleable__label-arrow:before {content: \"▾\";}#sk-container-id-3 div.sk-estimator input.sk-toggleable__control:checked~label.sk-toggleable__label {background-color: #d4ebff;}#sk-container-id-3 div.sk-label input.sk-toggleable__control:checked~label.sk-toggleable__label {background-color: #d4ebff;}#sk-container-id-3 input.sk-hidden--visually {border: 0;clip: rect(1px 1px 1px 1px);clip: rect(1px, 1px, 1px, 1px);height: 1px;margin: -1px;overflow: hidden;padding: 0;position: absolute;width: 1px;}#sk-container-id-3 div.sk-estimator {font-family: monospace;background-color: #f0f8ff;border: 1px dotted black;border-radius: 0.25em;box-sizing: border-box;margin-bottom: 0.5em;}#sk-container-id-3 div.sk-estimator:hover {background-color: #d4ebff;}#sk-container-id-3 div.sk-parallel-item::after {content: \"\";width: 100%;border-bottom: 1px solid gray;flex-grow: 1;}#sk-container-id-3 div.sk-label:hover label.sk-toggleable__label {background-color: #d4ebff;}#sk-container-id-3 div.sk-serial::before {content: \"\";position: absolute;border-left: 1px solid gray;box-sizing: border-box;top: 0;bottom: 0;left: 50%;z-index: 0;}#sk-container-id-3 div.sk-serial {display: flex;flex-direction: column;align-items: center;background-color: white;padding-right: 0.2em;padding-left: 0.2em;position: relative;}#sk-container-id-3 div.sk-item {position: relative;z-index: 1;}#sk-container-id-3 div.sk-parallel {display: flex;align-items: stretch;justify-content: center;background-color: white;position: relative;}#sk-container-id-3 div.sk-item::before, #sk-container-id-3 div.sk-parallel-item::before {content: \"\";position: absolute;border-left: 1px solid gray;box-sizing: border-box;top: 0;bottom: 0;left: 50%;z-index: -1;}#sk-container-id-3 div.sk-parallel-item {display: flex;flex-direction: column;z-index: 1;position: relative;background-color: white;}#sk-container-id-3 div.sk-parallel-item:first-child::after {align-self: flex-end;width: 50%;}#sk-container-id-3 div.sk-parallel-item:last-child::after {align-self: flex-start;width: 50%;}#sk-container-id-3 div.sk-parallel-item:only-child::after {width: 0;}#sk-container-id-3 div.sk-dashed-wrapped {border: 1px dashed gray;margin: 0 0.4em 0.5em 0.4em;box-sizing: border-box;padding-bottom: 0.4em;background-color: white;}#sk-container-id-3 div.sk-label label {font-family: monospace;font-weight: bold;display: inline-block;line-height: 1.2em;}#sk-container-id-3 div.sk-label-container {text-align: center;}#sk-container-id-3 div.sk-container {/* jupyter's `normalize.less` sets `[hidden] { display: none; }` but bootstrap.min.css set `[hidden] { display: none !important; }` so we also need the `!important` here to be able to override the default hidden behavior on the sphinx rendered scikit-learn.org. See: https://github.com/scikit-learn/scikit-learn/issues/21755 */display: inline-block !important;position: relative;}#sk-container-id-3 div.sk-text-repr-fallback {display: none;}</style><div id=\"sk-container-id-3\" class=\"sk-top-container\"><div class=\"sk-text-repr-fallback\"><pre>MultinomialNB(alpha=0.1)</pre><b>In a Jupyter environment, please rerun this cell to show the HTML representation or trust the notebook. <br />On GitHub, the HTML representation is unable to render, please try loading this page with nbviewer.org.</b></div><div class=\"sk-container\" hidden><div class=\"sk-item\"><div class=\"sk-estimator sk-toggleable\"><input class=\"sk-toggleable__control sk-hidden--visually\" id=\"sk-estimator-id-3\" type=\"checkbox\" checked><label for=\"sk-estimator-id-3\" class=\"sk-toggleable__label sk-toggleable__label-arrow\">MultinomialNB</label><div class=\"sk-toggleable__content\"><pre>MultinomialNB(alpha=0.1)</pre></div></div></div></div></div>"
      ],
      "text/plain": [
       "MultinomialNB(alpha=0.1)"
      ]
     },
     "execution_count": 135,
     "metadata": {},
     "output_type": "execute_result"
    }
   ],
   "source": [
    "from sklearn.naive_bayes import MultinomialNB\n",
    "\n",
    "nb=MultinomialNB(alpha=0.1)\n",
    "nb.fit(df1_train_x_resampled,df1_train_y_resampled)"
   ]
  },
  {
   "cell_type": "code",
   "execution_count": 136,
   "id": "1c5e53ea-aa79-44a0-b983-9f6e532592bf",
   "metadata": {},
   "outputs": [],
   "source": [
    "pred_nb=nb.predict(tdm_test)"
   ]
  },
  {
   "cell_type": "code",
   "execution_count": 40,
   "id": "647504ab-23ac-436f-b24d-d5aaefe93f8b",
   "metadata": {},
   "outputs": [],
   "source": [
    "from sklearn.metrics import confusion_matrix,accuracy_score,classification_report"
   ]
  },
  {
   "cell_type": "code",
   "execution_count": 138,
   "id": "a29ae1ce-cfb7-43d0-8e0c-b37bf95efa8c",
   "metadata": {},
   "outputs": [
    {
     "data": {
      "text/plain": [
       "array([[3371,   20],\n",
       "       [  83,  102]], dtype=int64)"
      ]
     },
     "execution_count": 138,
     "metadata": {},
     "output_type": "execute_result"
    }
   ],
   "source": [
    "tab_nb=confusion_matrix(test_y,pred_nb)\n",
    "tab_nb"
   ]
  },
  {
   "cell_type": "code",
   "execution_count": 141,
   "id": "9efb4f17-e954-4728-b88f-5560a80e6e9d",
   "metadata": {},
   "outputs": [
    {
     "data": {
      "text/plain": [
       "(17880, 2)"
      ]
     },
     "execution_count": 141,
     "metadata": {},
     "output_type": "execute_result"
    }
   ],
   "source": [
    "df1.shape"
   ]
  },
  {
   "cell_type": "code",
   "execution_count": 139,
   "id": "7f411614-b3de-4cf5-90b8-9bd8b342a74c",
   "metadata": {},
   "outputs": [
    {
     "name": "stdout",
     "output_type": "stream",
     "text": [
      "              precision    recall  f1-score   support\n",
      "\n",
      "           0       0.98      0.99      0.98      3391\n",
      "           1       0.84      0.55      0.66       185\n",
      "\n",
      "    accuracy                           0.97      3576\n",
      "   macro avg       0.91      0.77      0.82      3576\n",
      "weighted avg       0.97      0.97      0.97      3576\n",
      "\n"
     ]
    }
   ],
   "source": [
    "print(classification_report(test_y,pred_nb))"
   ]
  },
  {
   "cell_type": "code",
   "execution_count": 35,
   "id": "b787a19e-562a-44fb-bab0-dcd4cd108ecb",
   "metadata": {},
   "outputs": [],
   "source": [
    "from sklearn.ensemble import RandomForestClassifier"
   ]
  },
  {
   "cell_type": "code",
   "execution_count": 145,
   "id": "95a234f7-64fe-4976-a613-de645fbd238c",
   "metadata": {},
   "outputs": [
    {
     "name": "stdout",
     "output_type": "stream",
     "text": [
      "Fitting 5 folds for each of 81 candidates, totalling 405 fits\n",
      "{'max_depth': None, 'min_samples_leaf': 1, 'min_samples_split': 5, 'n_estimators': 200}\n"
     ]
    }
   ],
   "source": [
    "# rf = RandomForestClassifier(random_state=42)\n",
    "# # Define the parameter grid\n",
    "# param_grid = {\n",
    "#     'n_estimators': [100, 200, 300],\n",
    "#     'max_depth': [10, 20, None],\n",
    "#     'min_samples_split': [2, 5, 10],\n",
    "#     'min_samples_leaf': [1, 2, 4]\n",
    "# }\n",
    "# # Create the GridSearchCV object\n",
    "# grid_search = GridSearchCV(rf, param_grid, cv=5, n_jobs=-1, verbose=2)\n",
    "# grid_search.fit(df1_train_x_resampled,df1_train_y_resampled)\n",
    "# print(grid_search.best_params_)"
   ]
  },
  {
   "cell_type": "code",
   "execution_count": 36,
   "id": "782b00f9-7bb6-49b2-b04e-ecdf7290522d",
   "metadata": {},
   "outputs": [],
   "source": [
    "rf=RandomForestClassifier(max_depth=None,min_samples_leaf=1,min_samples_split=5,n_estimators=200)\n"
   ]
  },
  {
   "cell_type": "code",
   "execution_count": 37,
   "id": "f14f47ce-2273-4099-a677-2db362fe9807",
   "metadata": {},
   "outputs": [
    {
     "data": {
      "text/html": [
       "<style>#sk-container-id-1 {color: black;background-color: white;}#sk-container-id-1 pre{padding: 0;}#sk-container-id-1 div.sk-toggleable {background-color: white;}#sk-container-id-1 label.sk-toggleable__label {cursor: pointer;display: block;width: 100%;margin-bottom: 0;padding: 0.3em;box-sizing: border-box;text-align: center;}#sk-container-id-1 label.sk-toggleable__label-arrow:before {content: \"▸\";float: left;margin-right: 0.25em;color: #696969;}#sk-container-id-1 label.sk-toggleable__label-arrow:hover:before {color: black;}#sk-container-id-1 div.sk-estimator:hover label.sk-toggleable__label-arrow:before {color: black;}#sk-container-id-1 div.sk-toggleable__content {max-height: 0;max-width: 0;overflow: hidden;text-align: left;background-color: #f0f8ff;}#sk-container-id-1 div.sk-toggleable__content pre {margin: 0.2em;color: black;border-radius: 0.25em;background-color: #f0f8ff;}#sk-container-id-1 input.sk-toggleable__control:checked~div.sk-toggleable__content {max-height: 200px;max-width: 100%;overflow: auto;}#sk-container-id-1 input.sk-toggleable__control:checked~label.sk-toggleable__label-arrow:before {content: \"▾\";}#sk-container-id-1 div.sk-estimator input.sk-toggleable__control:checked~label.sk-toggleable__label {background-color: #d4ebff;}#sk-container-id-1 div.sk-label input.sk-toggleable__control:checked~label.sk-toggleable__label {background-color: #d4ebff;}#sk-container-id-1 input.sk-hidden--visually {border: 0;clip: rect(1px 1px 1px 1px);clip: rect(1px, 1px, 1px, 1px);height: 1px;margin: -1px;overflow: hidden;padding: 0;position: absolute;width: 1px;}#sk-container-id-1 div.sk-estimator {font-family: monospace;background-color: #f0f8ff;border: 1px dotted black;border-radius: 0.25em;box-sizing: border-box;margin-bottom: 0.5em;}#sk-container-id-1 div.sk-estimator:hover {background-color: #d4ebff;}#sk-container-id-1 div.sk-parallel-item::after {content: \"\";width: 100%;border-bottom: 1px solid gray;flex-grow: 1;}#sk-container-id-1 div.sk-label:hover label.sk-toggleable__label {background-color: #d4ebff;}#sk-container-id-1 div.sk-serial::before {content: \"\";position: absolute;border-left: 1px solid gray;box-sizing: border-box;top: 0;bottom: 0;left: 50%;z-index: 0;}#sk-container-id-1 div.sk-serial {display: flex;flex-direction: column;align-items: center;background-color: white;padding-right: 0.2em;padding-left: 0.2em;position: relative;}#sk-container-id-1 div.sk-item {position: relative;z-index: 1;}#sk-container-id-1 div.sk-parallel {display: flex;align-items: stretch;justify-content: center;background-color: white;position: relative;}#sk-container-id-1 div.sk-item::before, #sk-container-id-1 div.sk-parallel-item::before {content: \"\";position: absolute;border-left: 1px solid gray;box-sizing: border-box;top: 0;bottom: 0;left: 50%;z-index: -1;}#sk-container-id-1 div.sk-parallel-item {display: flex;flex-direction: column;z-index: 1;position: relative;background-color: white;}#sk-container-id-1 div.sk-parallel-item:first-child::after {align-self: flex-end;width: 50%;}#sk-container-id-1 div.sk-parallel-item:last-child::after {align-self: flex-start;width: 50%;}#sk-container-id-1 div.sk-parallel-item:only-child::after {width: 0;}#sk-container-id-1 div.sk-dashed-wrapped {border: 1px dashed gray;margin: 0 0.4em 0.5em 0.4em;box-sizing: border-box;padding-bottom: 0.4em;background-color: white;}#sk-container-id-1 div.sk-label label {font-family: monospace;font-weight: bold;display: inline-block;line-height: 1.2em;}#sk-container-id-1 div.sk-label-container {text-align: center;}#sk-container-id-1 div.sk-container {/* jupyter's `normalize.less` sets `[hidden] { display: none; }` but bootstrap.min.css set `[hidden] { display: none !important; }` so we also need the `!important` here to be able to override the default hidden behavior on the sphinx rendered scikit-learn.org. See: https://github.com/scikit-learn/scikit-learn/issues/21755 */display: inline-block !important;position: relative;}#sk-container-id-1 div.sk-text-repr-fallback {display: none;}</style><div id=\"sk-container-id-1\" class=\"sk-top-container\"><div class=\"sk-text-repr-fallback\"><pre>RandomForestClassifier(min_samples_split=5, n_estimators=200)</pre><b>In a Jupyter environment, please rerun this cell to show the HTML representation or trust the notebook. <br />On GitHub, the HTML representation is unable to render, please try loading this page with nbviewer.org.</b></div><div class=\"sk-container\" hidden><div class=\"sk-item\"><div class=\"sk-estimator sk-toggleable\"><input class=\"sk-toggleable__control sk-hidden--visually\" id=\"sk-estimator-id-1\" type=\"checkbox\" checked><label for=\"sk-estimator-id-1\" class=\"sk-toggleable__label sk-toggleable__label-arrow\">RandomForestClassifier</label><div class=\"sk-toggleable__content\"><pre>RandomForestClassifier(min_samples_split=5, n_estimators=200)</pre></div></div></div></div></div>"
      ],
      "text/plain": [
       "RandomForestClassifier(min_samples_split=5, n_estimators=200)"
      ]
     },
     "execution_count": 37,
     "metadata": {},
     "output_type": "execute_result"
    }
   ],
   "source": [
    "rf.fit(df1_train_x_resampled,df1_train_y_resampled)"
   ]
  },
  {
   "cell_type": "code",
   "execution_count": 38,
   "id": "e194c26d-b2c9-46c2-8388-110fee3153b2",
   "metadata": {},
   "outputs": [],
   "source": [
    "prf=rf.predict(tdm_test)\n"
   ]
  },
  {
   "cell_type": "code",
   "execution_count": 41,
   "id": "fd81d7aa-d5be-4b39-a7c3-01ea55b2fe74",
   "metadata": {},
   "outputs": [
    {
     "data": {
      "text/plain": [
       "array([[3359,   64],\n",
       "       [  54,   99]], dtype=int64)"
      ]
     },
     "execution_count": 41,
     "metadata": {},
     "output_type": "execute_result"
    }
   ],
   "source": [
    "confusion_matrix(test_y,prf)"
   ]
  },
  {
   "cell_type": "code",
   "execution_count": 42,
   "id": "1e7e4ab7-4c91-40ea-8efa-5cfc9ca3d13d",
   "metadata": {},
   "outputs": [
    {
     "name": "stdout",
     "output_type": "stream",
     "text": [
      "              precision    recall  f1-score   support\n",
      "\n",
      "           0       0.98      0.98      0.98      3423\n",
      "           1       0.61      0.65      0.63       153\n",
      "\n",
      "    accuracy                           0.97      3576\n",
      "   macro avg       0.80      0.81      0.80      3576\n",
      "weighted avg       0.97      0.97      0.97      3576\n",
      "\n"
     ]
    }
   ],
   "source": [
    "print(classification_report(test_y,prf))"
   ]
  },
  {
   "cell_type": "code",
   "execution_count": 151,
   "id": "1ee312f7-40c7-437d-ac25-eb23ee25be5e",
   "metadata": {},
   "outputs": [],
   "source": [
    "import gradio as gr "
   ]
  },
  {
   "cell_type": "code",
   "execution_count": 46,
   "id": "2df2519d-b39f-4788-b251-c2089c2dd848",
   "metadata": {},
   "outputs": [
    {
     "data": {
      "text/plain": [
       "'position  url86fd830a95a64e2b30ceed829e63fd384c289e4f01e3c93608b42a84f6e662dd developerjob location united statesnew jerseyjersey cityus work status required  ead  green card  us citizens detailed descriptionurl86fd830a95a64e2b30ceed829e63fd384c289e4f01e3c93608b42a84f6e662dd developer with strong sql  vb.net working in a highly effective software development team responsible for development of and enhancements to our idb reporting and billing systems. all work efforts will be performed according to policies and procedures relating to software development and quality.background developer with 5 years of development experience using url86fd830a95a64e2b30ceed829e63fd384c289e4f01e3c93608b42a84f6e662dd, vb.net, including 35 years in sql development.required college degree experience building web based applications using url86fd830a95a64e2b30ceed829e63fd384c289e4f01e3c93608b42a84f6e662dd and sql server. expert level, handson experience writing sql server stored procedures. proficient in ms office products excel, access, word, outlook worked in a role that involved the creation of reports for internal management andor external customers. experience developing in another scriptingfrontend language. excellent communication skillsif you are interested, please send your updated profile to email897dfb1f33f6c34f2bed521623e9808aa4e62d89a6c0284cfe89393e4457e628hiring for sales account directoradvertisingdigital salesposition  sales account director  pacific northwestjob location  united states,washingtonseattleus work status required  ead  green card  us citizens requirements 3 years of advertisingdigital sales experience, preferrably in the regionability to provide forecasting information to managementproven success prospectingcoldcalling regional accountsproven experience in automotive, tech, health care, and travel categories, among othersspecialized experience with handson agency account management selfstarter with a rollupyoursleeves mentalityability to work with the internal teams to solve problemssolid grasp of interactive media, including various pricing models, targeting technologies, and ad servingbachelors degreestrong longdistance communication skills using email, instant messenger platforms, and phonehigh technical aptitude for learning and working within desktop and webbased applications windows, microsoft office, dsps, ad exchanges ability to calculate and analyze data based on standard digital advertising costper metrics cpm, cpc, cpa, etc.detailoriented with strong organizational skills and multitasking abilityability to work efficiently and effectively under tight deadlines strong sense of urgencypersonality to work effectively within a fastmoving environment and with many different types of peopledesire and ability to work from home '"
      ]
     },
     "execution_count": 46,
     "metadata": {},
     "output_type": "execute_result"
    }
   ],
   "source": [
    "df1['x'][10]"
   ]
  },
  {
   "cell_type": "code",
   "execution_count": 59,
   "id": "cb8844fa-54b1-494d-b65a-4414a5382729",
   "metadata": {},
   "outputs": [
    {
     "data": {
      "text/html": [
       "<div>\n",
       "<style scoped>\n",
       "    .dataframe tbody tr th:only-of-type {\n",
       "        vertical-align: middle;\n",
       "    }\n",
       "\n",
       "    .dataframe tbody tr th {\n",
       "        vertical-align: top;\n",
       "    }\n",
       "\n",
       "    .dataframe thead th {\n",
       "        text-align: right;\n",
       "    }\n",
       "</style>\n",
       "<table border=\"1\" class=\"dataframe\">\n",
       "  <thead>\n",
       "    <tr style=\"text-align: right;\">\n",
       "      <th></th>\n",
       "      <th>x</th>\n",
       "      <th>y</th>\n",
       "    </tr>\n",
       "  </thead>\n",
       "  <tbody>\n",
       "    <tr>\n",
       "      <th>98</th>\n",
       "      <td>ice technician  bakersfield, ca mt. posoprinci...</td>\n",
       "      <td>1</td>\n",
       "    </tr>\n",
       "    <tr>\n",
       "      <th>144</th>\n",
       "      <td>the group has raised a fund for the purchase o...</td>\n",
       "      <td>1</td>\n",
       "    </tr>\n",
       "    <tr>\n",
       "      <th>173</th>\n",
       "      <td>technician instrument  controlslocation deweyv...</td>\n",
       "      <td>1</td>\n",
       "    </tr>\n",
       "    <tr>\n",
       "      <th>180</th>\n",
       "      <td>sales executive</td>\n",
       "      <td>1</td>\n",
       "    </tr>\n",
       "    <tr>\n",
       "      <th>215</th>\n",
       "      <td>ice technician  bakersfield, ca mt. posoprinci...</td>\n",
       "      <td>1</td>\n",
       "    </tr>\n",
       "    <tr>\n",
       "      <th>...</th>\n",
       "      <td>...</td>\n",
       "      <td>...</td>\n",
       "    </tr>\n",
       "    <tr>\n",
       "      <th>17827</th>\n",
       "      <td>student positions parttime and fulltime.you ca...</td>\n",
       "      <td>1</td>\n",
       "    </tr>\n",
       "    <tr>\n",
       "      <th>17828</th>\n",
       "      <td>learn to earn an executive level incomefull tr...</td>\n",
       "      <td>1</td>\n",
       "    </tr>\n",
       "    <tr>\n",
       "      <th>17829</th>\n",
       "      <td>infullmobile sp. z o.o. is a mobile software d...</td>\n",
       "      <td>1</td>\n",
       "    </tr>\n",
       "    <tr>\n",
       "      <th>17830</th>\n",
       "      <td>job descriptionwe are seeking a full time payr...</td>\n",
       "      <td>1</td>\n",
       "    </tr>\n",
       "    <tr>\n",
       "      <th>17831</th>\n",
       "      <td>earn 500 to 1000 a week as a mover. must have ...</td>\n",
       "      <td>1</td>\n",
       "    </tr>\n",
       "  </tbody>\n",
       "</table>\n",
       "<p>866 rows × 2 columns</p>\n",
       "</div>"
      ],
      "text/plain": [
       "                                                       x  y\n",
       "98     ice technician  bakersfield, ca mt. posoprinci...  1\n",
       "144    the group has raised a fund for the purchase o...  1\n",
       "173    technician instrument  controlslocation deweyv...  1\n",
       "180                                      sales executive  1\n",
       "215    ice technician  bakersfield, ca mt. posoprinci...  1\n",
       "...                                                  ... ..\n",
       "17827  student positions parttime and fulltime.you ca...  1\n",
       "17828  learn to earn an executive level incomefull tr...  1\n",
       "17829  infullmobile sp. z o.o. is a mobile software d...  1\n",
       "17830  job descriptionwe are seeking a full time payr...  1\n",
       "17831  earn 500 to 1000 a week as a mover. must have ...  1\n",
       "\n",
       "[866 rows x 2 columns]"
      ]
     },
     "execution_count": 59,
     "metadata": {},
     "output_type": "execute_result"
    }
   ],
   "source": [
    "df1[df1['y']==1]\n"
   ]
  },
  {
   "cell_type": "code",
   "execution_count": 62,
   "id": "0713d84c-3d03-4c9a-92af-f530d0b097fc",
   "metadata": {},
   "outputs": [
    {
     "data": {
      "text/plain": [
       "'ice technician  bakersfield, ca mt. posoprincipal duties and responsibilities calibrates, tests, maintains, troubleshoots, and installs all power plant instrumentation, control systems and electrical equipment.performs maintenance on motor control centers, motor operated valves, generators, excitation equipment and motors.performs preventive, predictive and corrective maintenance on equipment, coordinating work with various team members.designs and installs new equipment andor system modifications.troubleshoots and performs maintenance on dc backup power equipment, process controls, programmable logic controls plc, and emission monitoring equipment.uses maintenance reporting system to record time and material use, problem identified and corrected, and further action required provides complete history of maintenance on equipment.schedule, coordinate, work with and monitor contractors on specific tasks, as required.follows safe working practices at all times.identifies safety hazards and recommends solutions.follows environmental compliance work practices.identifies environmental noncompliance problems and assist in implementing solutions.assists other team members and works with all departments to support generating station in achieving their performance goals.trains other team members in the areas of instrumentation, control, and electrical systems.performs housekeeping assignments, as directed.conduct equipment and system tagging according to company and plant rules and regulations.perform equipment safety inspections, as required, and record results as appropriate. participate in small construction projects. read and interpret drawings, sketches, prints, and specifications, as required.orders parts as needed to affect maintenance and repair.performs operations tasks on an asneeded basis and other tasks as assigned.available within a reasonable response time for emergency callins and overtime, plus provide acceptable offhour contact by phone and company pager. excellent verbal and written communications skillsability to coordinate work activities with other team members on technical subjects across job families.ability to work weekends, holidays, and rotating shifts, as required.'"
      ]
     },
     "execution_count": 62,
     "metadata": {},
     "output_type": "execute_result"
    }
   ],
   "source": [
    "df1['x'][98]"
   ]
  },
  {
   "cell_type": "code",
   "execution_count": 43,
   "id": "61931698-21bf-4192-97e6-0a9c191edebc",
   "metadata": {},
   "outputs": [],
   "source": [
    "import pickle\n",
    "pickle.dump(rf,open(r\"C:\\Users\\Anjaney Deshpande\\Desktop\\datazip\\real_and_fake.pkl\",'wb'))"
   ]
  },
  {
   "cell_type": "code",
   "execution_count": 45,
   "id": "1e0cff5c-3d32-43e3-9a76-ce159dcb70a7",
   "metadata": {},
   "outputs": [
    {
     "name": "stdout",
     "output_type": "stream",
     "text": [
      "Running on local URL:  http://127.0.0.1:7860\n",
      "\n",
      "To create a public link, set `share=True` in `launch()`.\n"
     ]
    },
    {
     "data": {
      "text/html": [
       "<div><iframe src=\"http://127.0.0.1:7860/\" width=\"100%\" height=\"500\" allow=\"autoplay; camera; microphone; clipboard-read; clipboard-write;\" frameborder=\"0\" allowfullscreen></iframe></div>"
      ],
      "text/plain": [
       "<IPython.core.display.HTML object>"
      ]
     },
     "metadata": {},
     "output_type": "display_data"
    },
    {
     "data": {
      "text/plain": []
     },
     "execution_count": 45,
     "metadata": {},
     "output_type": "execute_result"
    }
   ],
   "source": [
    "import gradio as gr\n",
    "import joblib\n",
    "from sklearn.feature_extraction.text import CountVectorizer\n",
    "\n",
    "# Load your pre-trained model and vectorizer\n",
    "model = joblib.load(r\"C:\\Users\\Anjaney Deshpande\\Desktop\\datazip\\real_and_fake.pkl\")\n",
    "vectorizer = joblib.load(r\"C:\\Users\\Anjaney Deshpande\\Desktop\\datazip\\bow_transformer.pkl\")\n",
    "\n",
    "# Define the prediction function\n",
    "def classify_text(text):\n",
    "    # Transform the text using the vectorizer\n",
    "    text_vectorized = vectorizer.transform([text])\n",
    "    # Predict using the model\n",
    "    prediction = model.predict(text_vectorized)\n",
    "    # Map prediction to class labels\n",
    "    prediction_label = 'positive' if prediction == 1 else 'negative'\n",
    "    return prediction_label\n",
    "\n",
    "# Create the Gradio interface\n",
    "iface = gr.Interface(\n",
    "    fn=classify_text,\n",
    "    inputs=gr.Textbox(lines=2, placeholder=\"Enter text here...\"),\n",
    "    outputs=gr.Textbox(),\n",
    "    title=\"Text Classification\",\n",
    "    description=\"Enter a piece of text to classify it as positive or negative.\",\n",
    ")\n",
    "\n",
    "# Launch the interface\n",
    "iface.launch()\n"
   ]
  },
  {
   "cell_type": "code",
   "execution_count": null,
   "id": "0f3c0155-a3e2-4ea8-b129-f0cef5919970",
   "metadata": {},
   "outputs": [],
   "source": []
  }
 ],
 "metadata": {
  "kernelspec": {
   "display_name": "Python 3 (ipykernel)",
   "language": "python",
   "name": "python3"
  },
  "language_info": {
   "codemirror_mode": {
    "name": "ipython",
    "version": 3
   },
   "file_extension": ".py",
   "mimetype": "text/x-python",
   "name": "python",
   "nbconvert_exporter": "python",
   "pygments_lexer": "ipython3",
   "version": "3.11.7"
  }
 },
 "nbformat": 4,
 "nbformat_minor": 5
}
